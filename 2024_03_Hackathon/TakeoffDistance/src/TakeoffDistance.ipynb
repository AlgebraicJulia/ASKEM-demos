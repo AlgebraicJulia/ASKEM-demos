{
 "cells": [
  {
   "cell_type": "markdown",
   "metadata": {},
   "source": [
    "Climate models predict a trend of climate instability, including both higher average temperatures along with greater seasonal variations. One of the implications of increasing temperatures is decreasing air density, which affects flight mechanics. Using both historical and predicted data, this script models the increasing distance aircraft require to achieve takeoff on any given location on the Earth for  the given data."
   ]
  },
  {
   "cell_type": "markdown",
   "metadata": {},
   "source": [
    "Specifically, this script ingests NetCDF data for lon-lat-temperature data, interpolates it into a spherical mesh representing the Earth, and constructs a decapode to solve an algebraic equation for each point on this mesh."
   ]
  },
  {
   "cell_type": "markdown",
   "metadata": {},
   "source": [
    "We import the relevant AlgebriacJulia and miscellaneous packages"
   ]
  },
  {
   "cell_type": "code",
   "execution_count": 11,
   "metadata": {},
   "outputs": [],
   "source": [
    "using ACSets\n",
    "using CombinatorialSpaces\n",
    "using DiagrammaticEquations\n",
    "using DiagrammaticEquations.Deca\n",
    "using Decapodes\n",
    "\n",
    "using Test\n",
    "using GLMakie\n",
    "using DataFrames\n",
    "using ComponentArrays\n",
    "using GeometryBasics\n",
    "Point3D = GeometryBasics.Point3{Float64}\n",
    "using NetCDF\n",
    "using Plots\n",
    "using Interpolations\n",
    "using UnicodePlots\n",
    "import UnicodePlots: heatmap\n",
    "\n",
    "export HISTORICAL, SSP370,\n",
    "historical, ssp370,\n",
    "hist_lon_bnds, hist_lat_bnds,\n",
    "size_historical, size_ssp370,\n",
    "loc_to_idx,\n",
    "#the decapode\n",
    "takeoff_distance"
   ]
  },
  {
   "cell_type": "markdown",
   "metadata": {},
   "source": [
    "Runways vary in composition. Suggesting an enhancement for future work, we provide friction coefficients for each runway. `FrictionCoefficients` will be used only when we specify the initial conditions for the decapode, making the simplifying assumption that every point on the sphere has the same friction coefficient of concrete asphalt."
   ]
  },
  {
   "cell_type": "code",
   "execution_count": 2,
   "metadata": {},
   "outputs": [
    {
     "data": {
      "text/plain": [
       "Dict{Symbol, Float64} with 5 entries:\n",
       "  :TurfHardGrass   => 0.85\n",
       "  :ConcreteAsphalt => 0.035\n",
       "  :GroundSoft      => 0.015\n",
       "  :TurfHard        => 0.045\n",
       "  :TurfShoftGrass  => 0.05"
      ]
     },
     "execution_count": 2,
     "metadata": {},
     "output_type": "execute_result"
    }
   ],
   "source": [
    "FrictionCoefficients=Dict(\n",
    "  :ConcreteAsphalt => 0.035,\n",
    "  :TurfHard        => 0.045,\n",
    "  :TurfShoftGrass  => 0.0500,\n",
    "  :TurfHardGrass   => 0.85,\n",
    "  :GroundSoft      => 0.015)"
   ]
  },
  {
   "cell_type": "markdown",
   "metadata": {},
   "source": [
    "We define a struct for storing location information."
   ]
  },
  {
   "cell_type": "code",
   "execution_count": 3,
   "metadata": {},
   "outputs": [],
   "source": [
    "struct Location\n",
    "  lon::Float32 # for retrieving climate data\n",
    "  lat::Float32\n",
    "  material::Symbol\n",
    "end"
   ]
  },
  {
   "cell_type": "markdown",
   "metadata": {},
   "source": [
    "We define a struct for airplane payload. "
   ]
  },
  {
   "cell_type": "markdown",
   "metadata": {},
   "source": [
    "As a reference, here are the lon-lat coordinates for Guam and Little Rock."
   ]
  },
  {
   "cell_type": "code",
   "execution_count": 4,
   "metadata": {},
   "outputs": [
    {
     "data": {
      "text/plain": [
       "Location(-92.2895f0, 34.7464f0, :GroundSoft)"
      ]
     },
     "execution_count": 4,
     "metadata": {},
     "output_type": "execute_result"
    }
   ],
   "source": [
    "guam = Location(144.7937, 13.444304, :ConcreteAsphalt)\n",
    "littlerock = Location(-92.2895, 34.7464, :GroundSoft)"
   ]
  },
  {
   "cell_type": "markdown",
   "metadata": {},
   "source": [
    "We define a struct for our airplane."
   ]
  },
  {
   "cell_type": "code",
   "execution_count": 5,
   "metadata": {},
   "outputs": [
    {
     "data": {
      "text/plain": [
       "lbs_to_newtons (generic function with 1 method)"
      ]
     },
     "execution_count": 5,
     "metadata": {},
     "output_type": "execute_result"
    }
   ],
   "source": [
    "mutable struct Aircraft\n",
    "  weight::Float64 # weight (N)\n",
    "  max_payload::Float64\n",
    "  wing_area::Float32 # wing reference area (m²)\n",
    "  total_thrust::Int # (N)\n",
    "end\n",
    "\n",
    "lbs_to_newtons(lbs::Float64) = 4.44822162*lbs"
   ]
  },
  {
   "cell_type": "markdown",
   "metadata": {},
   "source": [
    "We define the Boeing 747-8F and Lockheed C-130J"
   ]
  },
  {
   "cell_type": "code",
   "execution_count": 6,
   "metadata": {},
   "outputs": [
    {
     "data": {
      "text/plain": [
       "2-element Vector{Aircraft}:\n",
       " Aircraft(2.0906641614e6, 1.300660001688e6, 554.0f0, 66000)\n",
       " Aircraft(336107.6256072, 186825.30804, 162.1f0, 13188)"
      ]
     },
     "execution_count": 6,
     "metadata": {},
     "output_type": "execute_result"
    }
   ],
   "source": [
    "boeing = Aircraft(lbs_to_newtons(470000.0)\n",
    "  ,lbs_to_newtons(292400.0) ,554.0, 66000)\n",
    "\n",
    "lockheed = Aircraft(lbs_to_newtons(75560.0)\n",
    "  ,lbs_to_newtons(42000.0), 162.1\n",
    "  ,13188 # https://www.military.cz/usa/air/in_service/aircraft/c130/c130_en.htm\n",
    ")\n",
    "\n",
    "planes = [boeing, lockheed]"
   ]
  },
  {
   "cell_type": "markdown",
   "metadata": {},
   "source": [
    "We extract and read the historical data"
   ]
  },
  {
   "cell_type": "code",
   "execution_count": 8,
   "metadata": {},
   "outputs": [
    {
     "data": {
      "text/plain": [
       "(128, 64, 1980)"
      ]
     },
     "execution_count": 8,
     "metadata": {},
     "output_type": "execute_result"
    }
   ],
   "source": [
    "HISTORICAL = \"assets/tasmax_Amon_CanESM5-1_historical_r1i1p1f1_gn_185001-201412.nc\"\n",
    "SSP370 = \"assets/tasmax_Amon_CanESM5_ssp370_r1i1p1f1_gn_201501-210012.nc\"\n",
    "\n",
    "historical = ncread(HISTORICAL, \"tasmax\")\n",
    "size_historical = size(historical)"
   ]
  },
  {
   "cell_type": "markdown",
   "metadata": {},
   "source": [
    "Likewise for the predicted data"
   ]
  },
  {
   "cell_type": "code",
   "execution_count": 12,
   "metadata": {},
   "outputs": [
    {
     "data": {
      "text/plain": [
       "(128, 64, 3012)"
      ]
     },
     "execution_count": 12,
     "metadata": {},
     "output_type": "execute_result"
    }
   ],
   "source": [
    "ssp370 = ncread(SSP370, \"tasmax\")\n",
    "size_ssp370 = size(ssp370)\n",
    "\n",
    "dataset = cat(historical, ssp370; dims=3)\n",
    "dims = size(dataset)"
   ]
  },
  {
   "cell_type": "markdown",
   "metadata": {},
   "source": [
    "Construct a decapode based on the takeoff distance formula. Since this form is algebraic, solving it simplly requires evaluating it at one time-step."
   ]
  },
  {
   "cell_type": "code",
   "execution_count": 10,
   "metadata": {},
   "outputs": [
    {
     "data": {
      "text/html": [
       "<div class=\"c-set\">\n",
       "<span class=\"c-set-summary\">SummationDecapode{Any, Any, Symbol} {Var:19, TVar:1, Op1:1, Op2:8, Σ:0, Summand:0, Type:0, Operator:0, Name:0}</span>\n",
       "<table>\n",
       "  <thead>\n",
       "    <tr class = \"header headerLastRow\">\n",
       "      <th class = \"rowLabel\" style = \"font-weight: bold; text-align: right;\">Var</th>\n",
       "      <th style = \"text-align: right;\">type</th>\n",
       "      <th style = \"text-align: right;\">name</th>\n",
       "    </tr>\n",
       "  </thead>\n",
       "  <tbody>\n",
       "    <tr>\n",
       "      <td class = \"rowLabel\" style = \"font-weight: bold; text-align: right;\">1</td>\n",
       "      <td style = \"text-align: right;\">Constant</td>\n",
       "      <td style = \"text-align: right;\">μ</td>\n",
       "    </tr>\n",
       "    <tr>\n",
       "      <td class = \"rowLabel\" style = \"font-weight: bold; text-align: right;\">2</td>\n",
       "      <td style = \"text-align: right;\">Constant</td>\n",
       "      <td style = \"text-align: right;\">τ</td>\n",
       "    </tr>\n",
       "    <tr>\n",
       "      <td class = \"rowLabel\" style = \"font-weight: bold; text-align: right;\">3</td>\n",
       "      <td style = \"text-align: right;\">Constant</td>\n",
       "      <td style = \"text-align: right;\">T₀</td>\n",
       "    </tr>\n",
       "    <tr>\n",
       "      <td class = \"rowLabel\" style = \"font-weight: bold; text-align: right;\">4</td>\n",
       "      <td style = \"text-align: right;\">Constant</td>\n",
       "      <td style = \"text-align: right;\">Vₛ</td>\n",
       "    </tr>\n",
       "    <tr>\n",
       "      <td class = \"rowLabel\" style = \"font-weight: bold; text-align: right;\">5</td>\n",
       "      <td style = \"text-align: right;\">Constant</td>\n",
       "      <td style = \"text-align: right;\">m</td>\n",
       "    </tr>\n",
       "    <tr>\n",
       "      <td class = \"rowLabel\" style = \"font-weight: bold; text-align: right;\">6</td>\n",
       "      <td style = \"text-align: right;\">Constant</td>\n",
       "      <td style = \"text-align: right;\">P</td>\n",
       "    </tr>\n",
       "    <tr>\n",
       "      <td class = \"rowLabel\" style = \"font-weight: bold; text-align: right;\">7</td>\n",
       "      <td style = \"text-align: right;\">Constant</td>\n",
       "      <td style = \"text-align: right;\">V</td>\n",
       "    </tr>\n",
       "    <tr>\n",
       "      <td class = \"rowLabel\" style = \"font-weight: bold; text-align: right;\">8</td>\n",
       "      <td style = \"text-align: right;\">Constant</td>\n",
       "      <td style = \"text-align: right;\">ρ</td>\n",
       "    </tr>\n",
       "    <tr>\n",
       "      <td class = \"rowLabel\" style = \"font-weight: bold; text-align: right;\">9</td>\n",
       "      <td style = \"text-align: right;\">Form0</td>\n",
       "      <td style = \"text-align: right;\">T</td>\n",
       "    </tr>\n",
       "    <tr>\n",
       "      <td class = \"rowLabel\" style = \"font-weight: bold; text-align: right;\">10</td>\n",
       "      <td style = \"text-align: right;\">Form0</td>\n",
       "      <td style = \"text-align: right;\">D</td>\n",
       "    </tr>\n",
       "    <tr>\n",
       "      <td class = \"rowLabel\" style = \"font-weight: bold; text-align: right;\">11</td>\n",
       "      <td style = \"text-align: right;\">infer</td>\n",
       "      <td style = \"text-align: right;\">Ḋ</td>\n",
       "    </tr>\n",
       "    <tr>\n",
       "      <td class = \"rowLabel\" style = \"font-weight: bold; text-align: right;\">12</td>\n",
       "      <td style = \"text-align: right;\">infer</td>\n",
       "      <td style = \"text-align: right;\">•2</td>\n",
       "    </tr>\n",
       "    <tr>\n",
       "      <td class = \"rowLabel\" style = \"font-weight: bold; text-align: right;\">13</td>\n",
       "      <td style = \"text-align: right;\">infer</td>\n",
       "      <td style = \"text-align: right;\">•3</td>\n",
       "    </tr>\n",
       "    <tr>\n",
       "      <td class = \"rowLabel\" style = \"font-weight: bold; text-align: right;\">14</td>\n",
       "      <td style = \"text-align: right;\">infer</td>\n",
       "      <td style = \"text-align: right;\">•4</td>\n",
       "    </tr>\n",
       "    <tr>\n",
       "      <td class = \"rowLabel\" style = \"font-weight: bold; text-align: right;\">15</td>\n",
       "      <td style = \"text-align: right;\">infer</td>\n",
       "      <td style = \"text-align: right;\">•5</td>\n",
       "    </tr>\n",
       "    <tr>\n",
       "      <td class = \"rowLabel\" style = \"font-weight: bold; text-align: right;\">16</td>\n",
       "      <td style = \"text-align: right;\">infer</td>\n",
       "      <td style = \"text-align: right;\">•6</td>\n",
       "    </tr>\n",
       "    <tr>\n",
       "      <td class = \"rowLabel\" style = \"font-weight: bold; text-align: right;\">17</td>\n",
       "      <td style = \"text-align: right;\">infer</td>\n",
       "      <td style = \"text-align: right;\">•7</td>\n",
       "    </tr>\n",
       "    <tr>\n",
       "      <td class = \"rowLabel\" style = \"font-weight: bold; text-align: right;\">18</td>\n",
       "      <td style = \"text-align: right;\">Literal</td>\n",
       "      <td style = \"text-align: right;\">2</td>\n",
       "    </tr>\n",
       "    <tr>\n",
       "      <td class = \"rowLabel\" style = \"font-weight: bold; text-align: right;\">19</td>\n",
       "      <td style = \"text-align: right;\">infer</td>\n",
       "      <td style = \"text-align: right;\">•8</td>\n",
       "    </tr>\n",
       "  </tbody>\n",
       "</table>\n",
       "<table>\n",
       "  <thead>\n",
       "    <tr class = \"header headerLastRow\">\n",
       "      <th class = \"rowLabel\" style = \"font-weight: bold; text-align: right;\">TVar</th>\n",
       "      <th style = \"text-align: right;\">incl</th>\n",
       "    </tr>\n",
       "  </thead>\n",
       "  <tbody>\n",
       "    <tr>\n",
       "      <td class = \"rowLabel\" style = \"font-weight: bold; text-align: right;\">1</td>\n",
       "      <td style = \"text-align: right;\">11</td>\n",
       "    </tr>\n",
       "  </tbody>\n",
       "</table>\n",
       "<table>\n",
       "  <thead>\n",
       "    <tr class = \"header headerLastRow\">\n",
       "      <th class = \"rowLabel\" style = \"font-weight: bold; text-align: right;\">Op1</th>\n",
       "      <th style = \"text-align: right;\">src</th>\n",
       "      <th style = \"text-align: right;\">tgt</th>\n",
       "      <th style = \"text-align: right;\">op1</th>\n",
       "    </tr>\n",
       "  </thead>\n",
       "  <tbody>\n",
       "    <tr>\n",
       "      <td class = \"rowLabel\" style = \"font-weight: bold; text-align: right;\">1</td>\n",
       "      <td style = \"text-align: right;\">10</td>\n",
       "      <td style = \"text-align: right;\">11</td>\n",
       "      <td style = \"text-align: right;\">∂ₜ</td>\n",
       "    </tr>\n",
       "  </tbody>\n",
       "</table>\n",
       "<table>\n",
       "  <thead>\n",
       "    <tr class = \"header headerLastRow\">\n",
       "      <th class = \"rowLabel\" style = \"font-weight: bold; text-align: right;\">Op2</th>\n",
       "      <th style = \"text-align: right;\">proj1</th>\n",
       "      <th style = \"text-align: right;\">proj2</th>\n",
       "      <th style = \"text-align: right;\">res</th>\n",
       "      <th style = \"text-align: right;\">op2</th>\n",
       "    </tr>\n",
       "  </thead>\n",
       "  <tbody>\n",
       "    <tr>\n",
       "      <td class = \"rowLabel\" style = \"font-weight: bold; text-align: right;\">1</td>\n",
       "      <td style = \"text-align: right;\">18</td>\n",
       "      <td style = \"text-align: right;\">1</td>\n",
       "      <td style = \"text-align: right;\">17</td>\n",
       "      <td style = \"text-align: right;\">.*</td>\n",
       "    </tr>\n",
       "    <tr>\n",
       "      <td class = \"rowLabel\" style = \"font-weight: bold; text-align: right;\">2</td>\n",
       "      <td style = \"text-align: right;\">17</td>\n",
       "      <td style = \"text-align: right;\">2</td>\n",
       "      <td style = \"text-align: right;\">16</td>\n",
       "      <td style = \"text-align: right;\">.*</td>\n",
       "    </tr>\n",
       "    <tr>\n",
       "      <td class = \"rowLabel\" style = \"font-weight: bold; text-align: right;\">3</td>\n",
       "      <td style = \"text-align: right;\">6</td>\n",
       "      <td style = \"text-align: right;\">5</td>\n",
       "      <td style = \"text-align: right;\">19</td>\n",
       "      <td style = \"text-align: right;\">.*</td>\n",
       "    </tr>\n",
       "    <tr>\n",
       "      <td class = \"rowLabel\" style = \"font-weight: bold; text-align: right;\">4</td>\n",
       "      <td style = \"text-align: right;\">16</td>\n",
       "      <td style = \"text-align: right;\">19</td>\n",
       "      <td style = \"text-align: right;\">15</td>\n",
       "      <td style = \"text-align: right;\">.*</td>\n",
       "    </tr>\n",
       "    <tr>\n",
       "      <td class = \"rowLabel\" style = \"font-weight: bold; text-align: right;\">5</td>\n",
       "      <td style = \"text-align: right;\">7</td>\n",
       "      <td style = \"text-align: right;\">9</td>\n",
       "      <td style = \"text-align: right;\">12</td>\n",
       "      <td style = \"text-align: right;\">.*</td>\n",
       "    </tr>\n",
       "    <tr>\n",
       "      <td class = \"rowLabel\" style = \"font-weight: bold; text-align: right;\">6</td>\n",
       "      <td style = \"text-align: right;\">15</td>\n",
       "      <td style = \"text-align: right;\">12</td>\n",
       "      <td style = \"text-align: right;\">14</td>\n",
       "      <td style = \"text-align: right;\">./</td>\n",
       "    </tr>\n",
       "    <tr>\n",
       "      <td class = \"rowLabel\" style = \"font-weight: bold; text-align: right;\">7</td>\n",
       "      <td style = \"text-align: right;\">14</td>\n",
       "      <td style = \"text-align: right;\">4</td>\n",
       "      <td style = \"text-align: right;\">13</td>\n",
       "      <td style = \"text-align: right;\">.*</td>\n",
       "    </tr>\n",
       "    <tr>\n",
       "      <td class = \"rowLabel\" style = \"font-weight: bold; text-align: right;\">8</td>\n",
       "      <td style = \"text-align: right;\">3</td>\n",
       "      <td style = \"text-align: right;\">13</td>\n",
       "      <td style = \"text-align: right;\">11</td>\n",
       "      <td style = \"text-align: right;\">./</td>\n",
       "    </tr>\n",
       "  </tbody>\n",
       "</table>\n",
       "</div>\n"
      ],
      "text/plain": [
       "SummationDecapode{Any, Any, Symbol} {Var:19, TVar:1, Op1:1, Op2:8, Σ:0, Summand:0, Type:0, Operator:0, Name:0}\n",
       "┌─────┬──────────┬──────┐\n",
       "│\u001b[1m Var \u001b[0m│\u001b[1m     type \u001b[0m│\u001b[1m name \u001b[0m│\n",
       "├─────┼──────────┼──────┤\n",
       "│\u001b[1m   1 \u001b[0m│ Constant │    μ │\n",
       "│\u001b[1m   2 \u001b[0m│ Constant │    τ │\n",
       "│\u001b[1m   3 \u001b[0m│ Constant │   T₀ │\n",
       "│\u001b[1m   4 \u001b[0m│ Constant │   Vₛ │\n",
       "│\u001b[1m   5 \u001b[0m│ Constant │    m │\n",
       "│\u001b[1m   6 \u001b[0m│ Constant │    P │\n",
       "│\u001b[1m   7 \u001b[0m│ Constant │    V │\n",
       "│\u001b[1m   8 \u001b[0m│ Constant │    ρ │\n",
       "│\u001b[1m   9 \u001b[0m│    Form0 │    T │\n",
       "│\u001b[1m  10 \u001b[0m│    Form0 │    D │\n",
       "│\u001b[1m  11 \u001b[0m│    infer │    Ḋ │\n",
       "│\u001b[1m  12 \u001b[0m│    infer │   •2 │\n",
       "│\u001b[1m  13 \u001b[0m│    infer │   •3 │\n",
       "│\u001b[1m  14 \u001b[0m│    infer │   •4 │\n",
       "│\u001b[1m  15 \u001b[0m│    infer │   •5 │\n",
       "│\u001b[1m  16 \u001b[0m│    infer │   •6 │\n",
       "│\u001b[1m  17 \u001b[0m│    infer │   •7 │\n",
       "│\u001b[1m  18 \u001b[0m│  Literal │    2 │\n",
       "│\u001b[1m  19 \u001b[0m│    infer │   •8 │\n",
       "└─────┴──────────┴──────┘\n",
       "┌──────┬──────┐\n",
       "│\u001b[1m TVar \u001b[0m│\u001b[1m incl \u001b[0m│\n",
       "├──────┼──────┤\n",
       "│\u001b[1m    1 \u001b[0m│   11 │\n",
       "└──────┴──────┘\n",
       "┌─────┬─────┬─────┬─────┐\n",
       "│\u001b[1m Op1 \u001b[0m│\u001b[1m src \u001b[0m│\u001b[1m tgt \u001b[0m│\u001b[1m op1 \u001b[0m│\n",
       "├─────┼─────┼─────┼─────┤\n",
       "│\u001b[1m   1 \u001b[0m│  10 │  11 │  ∂ₜ │\n",
       "└─────┴─────┴─────┴─────┘\n",
       "┌─────┬───────┬───────┬─────┬─────┐\n",
       "│\u001b[1m Op2 \u001b[0m│\u001b[1m proj1 \u001b[0m│\u001b[1m proj2 \u001b[0m│\u001b[1m res \u001b[0m│\u001b[1m op2 \u001b[0m│\n",
       "├─────┼───────┼───────┼─────┼─────┤\n",
       "│\u001b[1m   1 \u001b[0m│    18 │     1 │  17 │  .* │\n",
       "│\u001b[1m   2 \u001b[0m│    17 │     2 │  16 │  .* │\n",
       "│\u001b[1m   3 \u001b[0m│     6 │     5 │  19 │  .* │\n",
       "│\u001b[1m   4 \u001b[0m│    16 │    19 │  15 │  .* │\n",
       "│\u001b[1m   5 \u001b[0m│     7 │     9 │  12 │  .* │\n",
       "│\u001b[1m   6 \u001b[0m│    15 │    12 │  14 │  ./ │\n",
       "│\u001b[1m   7 \u001b[0m│    14 │     4 │  13 │  .* │\n",
       "│\u001b[1m   8 \u001b[0m│     3 │    13 │  11 │  ./ │\n",
       "└─────┴───────┴───────┴─────┴─────┘\n"
      ]
     },
     "execution_count": 10,
     "metadata": {},
     "output_type": "execute_result"
    }
   ],
   "source": [
    "takeoff_distance = @decapode begin\n",
    "  μ::Constant  # FrictionCoefficient\n",
    "  τ::Constant  # plane density\n",
    "  T₀::Constant # static thrust, squared\n",
    "  Vₛ::Constant # stall speed, squared\n",
    "  m::Constant  # (g/moles), molar mass\n",
    "  P::Constant  # Pa, pressure\n",
    "  V::Constant  # m³, volume (or specific gas constant)\n",
    "  ρ::Constant  # air density\n",
    "\n",
    "  T::Form0     # K, temperature\n",
    "  D::Form0     # takeoff distance\n",
    "\n",
    "  ∂ₜ(D) == T₀ ./ (2 .* μ .* τ .* (P .* m) ./ (V .* T) .* Vₛ)\n",
    "end"
   ]
  },
  {
   "cell_type": "markdown",
   "metadata": {},
   "source": [
    "Here we define the axes for the visualization"
   ]
  },
  {
   "cell_type": "code",
   "execution_count": 13,
   "metadata": {},
   "outputs": [
    {
     "data": {
      "text/plain": [
       "-90.0:2.857142857142857:90.0"
      ]
     },
     "execution_count": 13,
     "metadata": {},
     "output_type": "execute_result"
    }
   ],
   "source": [
    "months = 1:dims[3]\n",
    "xs = range(0, 180; length=dims[1])\n",
    "ys = range(-90, 90; length=dims[2])"
   ]
  },
  {
   "cell_type": "markdown",
   "metadata": {},
   "source": [
    "The decapode is evaluated on the sphere."
   ]
  },
  {
   "cell_type": "code",
   "execution_count": 14,
   "metadata": {},
   "outputs": [
    {
     "data": {
      "text/plain": [
       "(::Decapodes.var\"#f#70\") (generic function with 1 method)"
      ]
     },
     "execution_count": 14,
     "metadata": {},
     "output_type": "execute_result"
    }
   ],
   "source": [
    "sphere = Icosphere(4) |> loadmesh;\n",
    "sim=evalsim(takeoff_distance)\n",
    "f=sim(sphere, default_dec_generate)"
   ]
  },
  {
   "cell_type": "markdown",
   "metadata": {},
   "source": [
    "We make some assumptions and define a function to calculate plane density."
   ]
  },
  {
   "cell_type": "code",
   "execution_count": 15,
   "metadata": {},
   "outputs": [
    {
     "data": {
      "text/plain": [
       "density (generic function with 1 method)"
      ]
     },
     "execution_count": 15,
     "metadata": {},
     "output_type": "execute_result"
    }
   ],
   "source": [
    "const molar_mass            = 2.896\n",
    "const mean_atmos_pa         = 101325\n",
    "const specific_gas_constant = 287.050\n",
    "\n",
    "density(plane::Aircraft,load::Float64)=(plane.weight+load*plane.max_payload)/(plane.wing_area)"
   ]
  },
  {
   "cell_type": "markdown",
   "metadata": {},
   "source": [
    "We define a function `meshpolate` which calculates the takeoff distance for a given month and plane. By default, the plane is assumed to be unloaded, but we specify 80% and 100% load."
   ]
  },
  {
   "cell_type": "code",
   "execution_count": 16,
   "metadata": {},
   "outputs": [
    {
     "data": {
      "text/plain": [
       "meshpolate (generic function with 2 methods)"
      ]
     },
     "execution_count": 16,
     "metadata": {},
     "output_type": "execute_result"
    }
   ],
   "source": [
    "function meshpolate(data::Matrix{Float32}, plane, load=0.0)\n",
    "  out = []\n",
    "  plane ∈ planes || err(\"Invalid plane\")\n",
    "  linear_interp = linear_interpolation((xs,ys), data) # interpolate\n",
    "  T = map(sphere[:point]) do pt\n",
    "      spt = SpherePoint(CartesianPoint(pt))\n",
    "      linear_interp(\n",
    "                    isnan(phi(spt)) ? 0 : phi(spt)/pi * 180 + 90, # NAN issue\n",
    "                    theta(spt) / pi * 180)\n",
    "  end\n",
    "  params=(μ=FrictionCoefficients[:ConcreteAsphalt] #\n",
    "    ,τ=density(plane,load)    #\n",
    "    ,T₀=plane.total_thrust    # static thrust, squared\n",
    "    ,Vₛ=1.0                   # stall speed, squared\n",
    "    ,m=molar_mass             # molar mass (g/mol)\n",
    "    ,P=mean_atmos_pa          # pressure (Pa) # TODO this is mean atmospheric pressure\n",
    "    ,ρ=1.0                    # ρ\n",
    "    ,V=specific_gas_constant) # volume\n",
    "  forms=ComponentArray(D=zeros(nv(sphere)), T=T)\n",
    "  copied=copy(forms)\n",
    "  f(copied,forms,params,0)\n",
    "  result = copied.D\n",
    "end"
   ]
  },
  {
   "cell_type": "markdown",
   "metadata": {},
   "source": [
    "We initialize a dataframe for storing our results"
   ]
  },
  {
   "cell_type": "code",
   "execution_count": 17,
   "metadata": {},
   "outputs": [],
   "source": [
    "plane_symb = [:boeing, :lockheed]\n",
    "plane_dict = Dict(:boeing => boeing, :lockheed => lockheed)\n",
    "df = DataFrame(takeoff_m = Float64[], month = Int[], plane = Symbol[], load = Float64[]);"
   ]
  },
  {
   "cell_type": "markdown",
   "metadata": {},
   "source": [
    "For each month and plane, calculate and store the takeoff distance assuming 80% load."
   ]
  },
  {
   "cell_type": "code",
   "execution_count": 18,
   "metadata": {},
   "outputs": [],
   "source": [
    "for month ∈ months, plane ∈ plane_symb, load ∈ [0.8, 1]\n",
    "  local out = meshpolate(dataset[:,:,month], plane_dict[plane], load)\n",
    "  for x in out\n",
    "    push!(df, [x month plane load])\n",
    "  end\n",
    "end"
   ]
  },
  {
   "cell_type": "markdown",
   "metadata": {},
   "source": [
    "Here we produce the output. The sliders, respectively from top to bottom, control the time (in months from 1950), which plane, and which percentage of load (80% or 100%)."
   ]
  },
  {
   "cell_type": "code",
   "execution_count": null,
   "metadata": {},
   "outputs": [],
   "source": [
    "using Query\n",
    "\n",
    "fig=Figure()\n",
    "ax = LScene(fig[1,1], scenekw=(lights=[],))\n",
    "cam3d!(ax)\n",
    "\n",
    "sl_load  = Slider(fig[4, 1], range=[0.8, 1], startvalue=0.8)\n",
    "sl_plane = Slider(fig[3, 1], range=plane_symb, startvalue=:boeing)\n",
    "sl_time  = Slider(fig[2, 1], range=months, startvalue=1)\n",
    "sphere_at_time = lift(sl_time.value, sl_plane.value, sl_load.value) do month, plane, load\n",
    "  @from i in df begin\n",
    "    @where i.plane == plane && i.month == month && i.load == load\n",
    "    @select i.takeoff_m\n",
    "    @collect\n",
    "  end\n",
    "end\n",
    "\n",
    "msh = mesh!(ax, sphere, color=sphere_at_time, colormap=:jet)\n",
    "Colorbar(fig[1,2], msh)\n",
    "\n",
    "display(fig)"
   ]
  },
  {
   "cell_type": "markdown",
   "metadata": {},
   "source": [
    "---\n",
    "\n",
    "*This notebook was generated using [Literate.jl](https://github.com/fredrikekre/Literate.jl).*"
   ]
  }
 ],
 "metadata": {
  "kernelspec": {
   "display_name": "Julia 1.9.3",
   "language": "julia",
   "name": "julia-1.9"
  },
  "language_info": {
   "file_extension": ".jl",
   "mimetype": "application/julia",
   "name": "julia",
   "version": "1.10.2"
  }
 },
 "nbformat": 4,
 "nbformat_minor": 4
}
